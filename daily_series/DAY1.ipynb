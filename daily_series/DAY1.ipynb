{
 "cells": [
  {
   "cell_type": "code",
   "execution_count": 1,
   "id": "72c50afb",
   "metadata": {},
   "outputs": [
    {
     "name": "stdout",
     "output_type": "stream",
     "text": [
      "1. Mix 500g of Flour, 10g Yeast and 300ml Water in a bowl.\n",
      "2. Knead the dough for 10 minutes.\n",
      "3. Add 3g of Salt.\n",
      "4. Leave to rise for 2 hours.\n",
      "5. Bake at 200 degrees C for 30 minutes.\n"
     ]
    }
   ],
   "source": [
    "#PRACTICE  1\n",
    " # Write a program that uses print statements to print the following recipe\n",
    " #into the Output console. The text to print is already there, you just need to make it \n",
    " #into code. Your code should print all five lines exactly the same as the example output below.\n",
    " # Make sure that you don't change any of these existing text as everything, punctuation and casing \n",
    " # all need to match!\n",
    "print(\"1. Mix 500g of Flour, 10g Yeast and 300ml Water in a bowl.\")\n",
    "print(\"2. Knead the dough for 10 minutes.\")\n",
    "print(\"3. Add 3g of Salt.\")\n",
    "print(\"4. Leave to rise for 2 hours.\")\n",
    "print(\"5. Bake at 200 degrees C for 30 minutes.\")"
   ]
  },
  {
   "cell_type": "code",
   "execution_count": 1,
   "id": "85268017",
   "metadata": {},
   "outputs": [
    {
     "name": "stdout",
     "output_type": "stream",
     "text": [
      "Notes from Day 1\n",
      "The print statement is used to output strings\n",
      "Strings are strings of characters\n",
      "String Concatenation is done with the + sign\n",
      "New lines can be created with a \\ and the letter n\n"
     ]
    }
   ],
   "source": [
    "\n",
    "#Look at the code in the code editor. There are \n",
    "#errors on all 5 lines of code. Fix the code so that it runs without errors.\n",
    "#Try to run the code and debug each line using the error messages and feedback.\n",
    "# Fix the code below 👇\n",
    "print(\"Notes from Day 1\")\n",
    "print(\"The print statement is used to output strings\")\n",
    "print(\"Strings are strings of characters\")\n",
    "print(\"String Concatenation is done with the + sign\")\n",
    "print(\"New lines can be created with a \\\\ and the letter n\")"
   ]
  },
  {
   "cell_type": "code",
   "execution_count": 4,
   "id": "99464f21",
   "metadata": {},
   "outputs": [],
   "source": [
    "#We have 2 variables glass1 and glass2. glass1 contains milk and glass2 contains juice. Write 3 lines of code to switch the contents of the variables. You are not allowed to type the words \"milk\" or \"juice\". You are only allowed to use variables to solve this exercise.\n",
    "glass1 = \"milk\"\n",
    "glass2 = \"juice\"\n",
    "# solution\n",
    "glass1 = \"juice\"\n",
    "glass2 = \"milk\""
   ]
  },
  {
   "cell_type": "code",
   "execution_count": 5,
   "id": "41806b82",
   "metadata": {},
   "outputs": [
    {
     "name": "stdout",
     "output_type": "stream",
     "text": [
      "Welcome to the Band Name Generator\n",
      "Your band name could be  RVI ER\n"
     ]
    }
   ],
   "source": [
    "# write a program to execute the band name generator \n",
    "print(\"Welcome to the Band Name Generator\")\n",
    "a = input(\"what is the name of the city you grew up in? \\n\")\n",
    "b = input(\"what is the name of your pet? \\n\")\n",
    "print(\"Your band name could be \" + a + \" \" + b)"
   ]
  },
  {
   "cell_type": "code",
   "execution_count": 6,
   "id": "fa13bc13",
   "metadata": {},
   "outputs": [
    {
     "name": "stdout",
     "output_type": "stream",
     "text": [
      "hello world!\n"
     ]
    }
   ],
   "source": [
    " # code 1\n",
    "print (\"hello world!\")"
   ]
  },
  {
   "cell_type": "code",
   "execution_count": 7,
   "id": "0fd3e3b7",
   "metadata": {},
   "outputs": [
    {
     "name": "stdout",
     "output_type": "stream",
     "text": [
      "hello world!\n",
      "hello world!\n"
     ]
    }
   ],
   "source": [
    " #code 2\n",
    "print (\"hello world!\\nhello world!\")"
   ]
  },
  {
   "cell_type": "code",
   "execution_count": 8,
   "id": "10ec9dbd",
   "metadata": {},
   "outputs": [
    {
     "name": "stdout",
     "output_type": "stream",
     "text": [
      "helloworld\n"
     ]
    }
   ],
   "source": [
    " #code 3\n",
    "print (\"hello\" + \"world\")"
   ]
  },
  {
   "cell_type": "code",
   "execution_count": 9,
   "id": "94255e28",
   "metadata": {},
   "outputs": [
    {
     "name": "stdout",
     "output_type": "stream",
     "text": [
      "hello world\n"
     ]
    }
   ],
   "source": [
    "print (\"hello\" + \" \" + \"world\")"
   ]
  },
  {
   "cell_type": "code",
   "execution_count": 10,
   "id": "11d00513",
   "metadata": {},
   "outputs": [
    {
     "name": "stdout",
     "output_type": "stream",
     "text": [
      "helloSUMI\n"
     ]
    }
   ],
   "source": [
    "# #code 5\n",
    "print(\"hello\"+ input(\"what is your name\"))"
   ]
  },
  {
   "cell_type": "code",
   "execution_count": 11,
   "id": "5138416b",
   "metadata": {},
   "outputs": [
    {
     "name": "stdout",
     "output_type": "stream",
     "text": [
      "RAM\n"
     ]
    }
   ],
   "source": [
    "# # code 6\n",
    "name = input (\"what is your name \")\n",
    "print(name)"
   ]
  },
  {
   "cell_type": "code",
   "execution_count": 12,
   "id": "832df38e",
   "metadata": {},
   "outputs": [
    {
     "name": "stdout",
     "output_type": "stream",
     "text": [
      "jack\n"
     ]
    }
   ],
   "source": [
    "# # CODE 7\n",
    "name = \"jack\"\n",
    "print(name)"
   ]
  },
  {
   "cell_type": "code",
   "execution_count": 13,
   "id": "fecfde65",
   "metadata": {},
   "outputs": [
    {
     "name": "stdout",
     "output_type": "stream",
     "text": [
      "helloSUVI!\n"
     ]
    }
   ],
   "source": [
    "# # try 1\n",
    "print(\"hello\"  + input(\"what is your name\") + \"!\")"
   ]
  },
  {
   "cell_type": "code",
   "execution_count": 14,
   "id": "29cfb543",
   "metadata": {},
   "outputs": [
    {
     "name": "stdout",
     "output_type": "stream",
     "text": [
      "4\n"
     ]
    }
   ],
   "source": [
    "name = input (\"what is your name \")\n",
    "print(len(name))"
   ]
  },
  {
   "cell_type": "code",
   "execution_count": 15,
   "id": "7b7a03f0",
   "metadata": {},
   "outputs": [
    {
     "name": "stdout",
     "output_type": "stream",
     "text": [
      "4\n"
     ]
    }
   ],
   "source": [
    "username = input(\"what is your name?\")\n",
    "length = len(username)\n",
    "print(length )"
   ]
  }
 ],
 "metadata": {
  "kernelspec": {
   "display_name": "base",
   "language": "python",
   "name": "python3"
  },
  "language_info": {
   "codemirror_mode": {
    "name": "ipython",
    "version": 3
   },
   "file_extension": ".py",
   "mimetype": "text/x-python",
   "name": "python",
   "nbconvert_exporter": "python",
   "pygments_lexer": "ipython3",
   "version": "3.12.7"
  }
 },
 "nbformat": 4,
 "nbformat_minor": 5
}
