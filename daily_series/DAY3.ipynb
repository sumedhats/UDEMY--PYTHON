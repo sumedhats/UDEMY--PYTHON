{
 "cells": [
  {
   "cell_type": "code",
   "execution_count": 15,
   "id": "1385fac9",
   "metadata": {},
   "outputs": [
    {
     "name": "stdout",
     "output_type": "stream",
     "text": [
      "welcome to roller coaster\n",
      "better luch next time\n"
     ]
    }
   ],
   "source": [
    "# case 1\n",
    "print(\"welcome to roller coaster\")\n",
    "height = int(input(\"enter ur height\"))\n",
    "if height > 180:\n",
    " print(\"get ready to the entusiasium\")\n",
    "else:\n",
    " print(\"better luch next time\")"
   ]
  },
  {
   "cell_type": "code",
   "execution_count": null,
   "id": "22c0e5c7",
   "metadata": {},
   "outputs": [
    {
     "name": "stdout",
     "output_type": "stream",
     "text": [
      "its even\n"
     ]
    }
   ],
   "source": [
    "num = int(input(\"enter a number\"))  \n",
    "if num % 2 ==0:\n",
    "     print (\"its even\")\n",
    "else:\n",
    "     print(\"its odd\")"
   ]
  },
  {
   "cell_type": "code",
   "execution_count": 33,
   "id": "9d6c9805",
   "metadata": {},
   "outputs": [
    {
     "name": "stdout",
     "output_type": "stream",
     "text": [
      "Welcome to the roller coaster!\n",
      "Sorry, you're not tall enough to ride.\n"
     ]
    }
   ],
   "source": [
    "print(\"Welcome to the roller coaster!\")\n",
    "height = int(input(\"Enter your height in cm: \"))\n",
    "age = int(input(\"Enter your age: \"))\n",
    "\n",
    "if height > 180:\n",
    "    print(\"Get ready for the enthusiasm!\")\n",
    "    if age >= 18:\n",
    "        print(\"Your ticket is $12\")\n",
    "    else:\n",
    "        print(\"Your ticket is $7\")\n",
    "else:\n",
    "    print(\"Sorry, you're not tall enough to ride.\")\n"
   ]
  },
  {
   "cell_type": "code",
   "execution_count": 18,
   "id": "e909d0e1",
   "metadata": {},
   "outputs": [
    {
     "name": "stdout",
     "output_type": "stream",
     "text": [
      "welcome to roller coaster\n",
      "better luch next time\n"
     ]
    }
   ],
   "source": [
    " # case 4\n",
    "print(\"welcome to roller coaster\")\n",
    "height = int(input(\"enter ur height\"))\n",
    "age = int(input(\"enter ur age\"))\n",
    "if height > 180:\n",
    "  print(\"Get ready to the entusiasium\")\n",
    "  if age < 12:\n",
    "   print(\"ur ticket is 5$\")\n",
    "  elif age == 12 and age <18:\n",
    "    print (\"ur tichet is 7$\")\n",
    "  else:\n",
    "    print(\"ur ticket is 12$\")\n",
    "else:\n",
    "  print(\"better luch next time\")"
   ]
  },
  {
   "cell_type": "code",
   "execution_count": 19,
   "id": "5f3f46b2",
   "metadata": {},
   "outputs": [],
   "source": [
    "# task1 \n",
    "#  BMI Calculator with Interpretations\n",
    "# Add some if/elif/else statements to the BMI calculator so that it interprets the BMI values calculated.\n",
    "# If the bmi is under 18.5 (not including), print out \"underweight\"\n",
    "# If the bmi is between 18.5 (including) and 25 (not including), print out \"normal weight\"\n",
    "# If the bmi is 25 (including) or over, print out \"overweight\"\n",
    "# Refer to this graphic for help:\n",
    "weight = 85\n",
    "height = 1.85\n",
    "\n",
    "bmi = weight / (height ** 2)\n"
   ]
  },
  {
   "cell_type": "code",
   "execution_count": 20,
   "id": "80f9854c",
   "metadata": {},
   "outputs": [
    {
     "name": "stdout",
     "output_type": "stream",
     "text": [
      "normal weight\n"
     ]
    }
   ],
   "source": [
    "#Do not modify the values above\n",
    "# Write your code below 👇\n",
    "if bmi < 18.85:\n",
    "  print(\"underweight\")\n",
    "elif bmi >= 18.5 and bmi < 25:\n",
    "  print(\"normal weight\")\n",
    "else:\n",
    "  print(\"overweight\")"
   ]
  },
  {
   "cell_type": "code",
   "execution_count": 21,
   "id": "8d9d5434",
   "metadata": {},
   "outputs": [
    {
     "name": "stdout",
     "output_type": "stream",
     "text": [
      "welcome to roller coaster\n",
      "better luch next time\n",
      "no photo\n",
      "bill is 0\n"
     ]
    }
   ],
   "source": [
    "# case 5 WELCOME TO ROLLARCOASTER \n",
    "print(\"welcome to roller coaster\")\n",
    "height =float(input(\"enter ur height\"))\n",
    "age = float(input(\"enter ur age\")) \n",
    "bill = 0\n",
    "if height > 180:\n",
    " print(\"Get ready to the entusiasium\")\n",
    " if age < 12:\n",
    "   bill += 5\n",
    "   print(\"ur ticket is 5$\")\n",
    " elif age == 12 and age <18:\n",
    "    bill += 7\n",
    "    print (\"ur tichet is 7$\")\n",
    " else:\n",
    "    bill += 12\n",
    "    print(\"ur ticket is 12$\")\n",
    "else:\n",
    " print(\"better luch next time\")\n",
    "photo = input(\" do u need a photo type s for yes and n for no: \")\n",
    "if photo == \"y\":\n",
    "  bill +=3\n",
    "  print(\"your photo\")\n",
    "else :\n",
    "  print(\"no photo\")\n",
    "  print(F\"bill is {bill}\") "
   ]
  },
  {
   "cell_type": "code",
   "execution_count": 23,
   "id": "34c0197c",
   "metadata": {},
   "outputs": [
    {
     "name": "stdout",
     "output_type": "stream",
     "text": [
      "Welcome to python pizza deliveries\n",
      "your bill  25\n"
     ]
    }
   ],
   "source": [
    "#CASE WELCOME TO PYTHON PIZZA DELEIVERIES \n",
    "print(\"Welcome to python pizza deliveries\")\n",
    "pizza= input(\"what kind of pizza do u wanna have s or m or l:\")\n",
    "bill = 0\n",
    "pepperoni= input(\"perreroni? y or n\")\n",
    "cheese = input(\"need a pizza cheesy? y or n\")\n",
    "if cheese == \"y\":\n",
    "    bill += 1\n",
    "if pizza ==\"s\":\n",
    "    bill += 15\n",
    "    if pepperoni ==\"y\":\n",
    "       bill += 2\n",
    "elif pizza == \"m\":\n",
    "    bill += 20\n",
    "    if pepperoni ==\"y\":\n",
    "       bill +=3\n",
    "else :\n",
    "    bill += 25\n",
    "if pepperoni ==\"y\":\n",
    "       bill +=3\n",
    "print(\"your bill \",+bill)"
   ]
  },
  {
   "cell_type": "code",
   "execution_count": 27,
   "id": "20643309",
   "metadata": {},
   "outputs": [
    {
     "name": "stdout",
     "output_type": "stream",
     "text": [
      "welcome to roller coaster\n",
      "better luch next time\n",
      "no photo\n",
      "bill is 0\n"
     ]
    }
   ],
   "source": [
    " # case 7 \n",
    "print(\"welcome to roller coaster\")\n",
    "height =float(input(\"enter ur height\"))\n",
    "age = float(input(\"enter ur age\")) \n",
    "bill = 0\n",
    "if height > 180:\n",
    "  print(\"Get ready to the entusiasium\")\n",
    "  if age < 12:\n",
    "   bill += 5\n",
    "   print(\"ur ticket is 5$\")\n",
    "  elif age == 12 and age <18:\n",
    "    bill += 7\n",
    "    print (\"ur tichet is 7$\")\n",
    "  elif age > 30 and age < 45:\n",
    "    bill = 0\n",
    "    print(\"u got a free ticket congrats\")\n",
    "  elif age >= 45:\n",
    "    bill += 12\n",
    "    print (\" ur ticket is 12$\")\n",
    "else:\n",
    "  print(\"better luch next time\")\n",
    "photo = input(\" do u need a photo type y for yes and n for no: \")\n",
    "if photo == \"y\":\n",
    "  bill +=3\n",
    "  print(\"your photo\")\n",
    "else :\n",
    "  print(\"no photo\")\n",
    "print(F\"bill is {bill}\")  "
   ]
  }
 ],
 "metadata": {
  "kernelspec": {
   "display_name": "base",
   "language": "python",
   "name": "python3"
  },
  "language_info": {
   "codemirror_mode": {
    "name": "ipython",
    "version": 3
   },
   "file_extension": ".py",
   "mimetype": "text/x-python",
   "name": "python",
   "nbconvert_exporter": "python",
   "pygments_lexer": "ipython3",
   "version": "3.12.7"
  }
 },
 "nbformat": 4,
 "nbformat_minor": 5
}
