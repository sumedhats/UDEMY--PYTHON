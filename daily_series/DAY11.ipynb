{
  "cells": [
    {
      "cell_type": "code",
      "execution_count": 53,
      "metadata": {
        "colab": {
          "base_uri": "https://localhost:8080/"
        },
        "id": "vnO_JI5ZVfqk",
        "outputId": "adb24b0b-c6bd-4873-f7d8-6f5e570e4b9f"
      },
      "outputs": [
        {
          "name": "stdout",
          "output_type": "stream",
          "text": [
            "Computer choice:('k', '9')\n",
            "Your cards are: 8 and k\n",
            "Computer choice value:19\n",
            "Total value: 18\n",
            "Computer win\n",
            "Do you wanna continue the game type 'y' orlese type 'n':n\n",
            "End the game\n"
          ]
        }
      ],
      "source": [
        "import random\n",
        "def blackjack():\n",
        " game = input(\"Do you want to play the game of Blackjack? Type 'y' for yes and 'n' for no: \")\n",
        "if game.lower() == 'y':\n",
        "    cards = {\"1\": 1, \"2\": 2, \"3\": 3, \"4\": 4, \"5\": 5, \"6\": 6, \"7\": 7, \"8\": 8, \"9\": 9, \"k\": 10, \"q\": 10, \"j\": 10, \"a\": 10}\n",
        "    card1 = random.choice(list(cards.keys()))\n",
        "    card2 = random.choice(list(cards.keys()))\n",
        "    computer_choice1 = random.choice(list(cards.keys()))\n",
        "    computer_choice2 = random.choice(list(cards.keys()))\n",
        "    Computer_choice = computer_choice1 , computer_choice2\n",
        "    print(f\"Computer choice:{Computer_choice}\")\n",
        "    print(f\"Your cards are: {card1} and {card2}\")\n",
        "    Your_value = cards[card1] + cards[card2]\n",
        "    comp_value = cards[computer_choice1]+cards[computer_choice2]\n",
        "    print(f\"Computer choice value:{comp_value}\")\n",
        "    print(f\"Total value: {Your_value}\")\n",
        "    if Your_value == comp_value:\n",
        "        print(\"It is a tie\")\n",
        "    elif Your_value > comp_value:\n",
        "        print(\"You won\")\n",
        "    else:\n",
        "        print(\"Computer win\")\n",
        "else:\n",
        "    print(\"Okay, maybe next time!\")\n",
        "answer = input(\"Do you wanna continue the game type 'y' orlese type 'n':\")\n",
        "if answer.lower() == 'y':\n",
        "   blackjack()\n",
        "else:\n",
        "  print(\"End the game\")"
      ]
    }
  ],
  "metadata": {
    "colab": {
      "authorship_tag": "ABX9TyM5vhuqKqVCveonEue8sWgB",
      "include_colab_link": true,
      "provenance": []
    },
    "kernelspec": {
      "display_name": "Python 3",
      "name": "python3"
    },
    "language_info": {
      "name": "python"
    }
  },
  "nbformat": 4,
  "nbformat_minor": 0
}
