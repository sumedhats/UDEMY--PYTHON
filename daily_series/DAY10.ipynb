{
  "cells": [
    {
      "cell_type": "code",
      "execution_count": null,
      "metadata": {
        "colab": {
          "base_uri": "https://localhost:8080/"
        },
        "id": "P_Td1Fv96s7Y",
        "outputId": "9d5fdccf-e48f-4672-b88a-3e82dfd40c19"
      },
      "outputs": [
        {
          "name": "stdout",
          "output_type": "stream",
          "text": [
            "enter first name sumedha\n",
            "enter last name shivakumar\n",
            " Sumedha  Shivakumar\n"
          ]
        }
      ],
      "source": [
        "def title_case():\n",
        "  f_name = input(\"enter first name\").title()\n",
        "  l_name = input(\"enter last name\").title()\n",
        "  print(f_name,l_name)\n",
        "title_case()"
      ]
    },
    {
      "cell_type": "code",
      "execution_count": null,
      "metadata": {
        "colab": {
          "base_uri": "https://localhost:8080/",
          "height": 52
        },
        "id": "Nt16IGVA8hqI",
        "outputId": "2e460f0f-fb1a-4fa9-e60d-0706024a99b2"
      },
      "outputs": [
        {
          "name": "stdout",
          "output_type": "stream",
          "text": [
            "text: suvi\n"
          ]
        },
        {
          "data": {
            "application/vnd.google.colaboratory.intrinsic+json": {
              "type": "string"
            },
            "text/plain": [
              "' suvi suvi'"
            ]
          },
          "execution_count": 23,
          "metadata": {},
          "output_type": "execute_result"
        }
      ],
      "source": [
        "def sumi(text=None):\n",
        "  if text is None:\n",
        "    text = input(\"text:\")\n",
        "  return text + text\n",
        "sumi(text=None)"
      ]
    },
    {
      "cell_type": "code",
      "execution_count": null,
      "metadata": {
        "colab": {
          "base_uri": "https://localhost:8080/",
          "height": 52
        },
        "id": "MZFh0AXM-a44",
        "outputId": "8727a03d-4d46-42a4-fc64-7f8cb4d64158"
      },
      "outputs": [
        {
          "name": "stdout",
          "output_type": "stream",
          "text": [
            "text: viki\n"
          ]
        },
        {
          "data": {
            "application/vnd.google.colaboratory.intrinsic+json": {
              "type": "string"
            },
            "text/plain": [
              "' Viki'"
            ]
          },
          "execution_count": 14,
          "metadata": {},
          "output_type": "execute_result"
        }
      ],
      "source": [
        "def title():\n",
        "  text = input(\"text:\")\n",
        "  return text.title()\n",
        "title()"
      ]
    },
    {
      "cell_type": "code",
      "execution_count": null,
      "metadata": {
        "colab": {
          "base_uri": "https://localhost:8080/"
        },
        "id": "phcBcaTj-u0o",
        "outputId": "3c2f8aec-b914-41bc-eeca-30559ed927a8"
      },
      "outputs": [
        {
          "name": "stdout",
          "output_type": "stream",
          "text": [
            "text:sumi\n",
            "SumiSumi\n"
          ]
        }
      ],
      "source": [
        "output = sumi(title())\n",
        "print(output)"
      ]
    },
    {
      "cell_type": "code",
      "execution_count": null,
      "metadata": {
        "colab": {
          "base_uri": "https://localhost:8080/",
          "height": 69
        },
        "id": "oTOCqqNXCh5-",
        "outputId": "a70aafda-66cf-4e0f-c4f5-e3f18ec92c0f"
      },
      "outputs": [
        {
          "name": "stdout",
          "output_type": "stream",
          "text": [
            "enter first name suvi\n",
            "enter last name gowda\n"
          ]
        },
        {
          "data": {
            "application/vnd.google.colaboratory.intrinsic+json": {
              "type": "string"
            },
            "text/plain": [
              "' Suvi  Gowda'"
            ]
          },
          "execution_count": 5,
          "metadata": {},
          "output_type": "execute_result"
        }
      ],
      "source": [
        "def title_case():\n",
        "  f_name = input(\"enter first name\").title()\n",
        "  l_name = input(\"enter last name\").title()\n",
        "  return f_name + \" \" + l_name\n",
        "title_case()"
      ]
    },
    {
      "cell_type": "code",
      "execution_count": null,
      "metadata": {
        "colab": {
          "base_uri": "https://localhost:8080/"
        },
        "id": "PVBcVe61It3Y",
        "outputId": "a4d97373-4fe3-4b4e-eea1-84bbd6d092d3"
      },
      "outputs": [
        {
          "data": {
            "text/plain": [
              "True"
            ]
          },
          "execution_count": 14,
          "metadata": {},
          "output_type": "execute_result"
        }
      ],
      "source": [
        "def leap_year(year):\n",
        "  if year % 400 == 0:\n",
        "    return True\n",
        "  elif year % 100 == 0:\n",
        "    return False\n",
        "  elif year % 4 == 0:\n",
        "    return True\n",
        "  else:\n",
        "    return False\n",
        "leap_year(2000)"
      ]
    },
    {
      "cell_type": "code",
      "execution_count": null,
      "metadata": {
        "colab": {
          "base_uri": "https://localhost:8080/"
        },
        "id": "NjNZYkopKYpv",
        "outputId": "937c0f17-b4a8-42f5-9fa4-5ba652577ce8"
      },
      "outputs": [
        {
          "data": {
            "text/plain": [
              "True"
            ]
          },
          "execution_count": 22,
          "metadata": {},
          "output_type": "execute_result"
        }
      ],
      "source": [
        "def leap_year(year):\n",
        "  ''' detects the leap year'''\n",
        "  if year % 400 == 0:\n",
        "    return True\n",
        "  elif year % 100 == 0:\n",
        "    return False\n",
        "  elif year % 4 == 0:\n",
        "    return True\n",
        "  else:\n",
        "    return False\n",
        "leap_year(2000)"
      ]
    },
    {
      "cell_type": "code",
      "execution_count": null,
      "metadata": {
        "colab": {
          "base_uri": "https://localhost:8080/",
          "height": 35
        },
        "id": "ZhHAJwcMLJLL",
        "outputId": "9f58893e-8a59-4cd2-b63f-85ec39629fbb"
      },
      "outputs": [
        {
          "data": {
            "application/vnd.google.colaboratory.intrinsic+json": {
              "type": "string"
            },
            "text/plain": [
              "' detects the leap year'"
            ]
          },
          "execution_count": 23,
          "metadata": {},
          "output_type": "execute_result"
        }
      ],
      "source": [
        "leap_year.__doc__"
      ]
    },
    {
      "cell_type": "code",
      "execution_count": 45,
      "metadata": {
        "colab": {
          "base_uri": "https://localhost:8080/"
        },
        "id": "8XrUSTg_MHb2",
        "outputId": "6bfcaa3b-07f7-4df3-b0e4-7869aabd7dbb"
      },
      "outputs": [
        {
          "name": "stdout",
          "output_type": "stream",
          "text": [
            "what is first no23\n",
            "pic the operation(*,/,-,+):/\n",
            "what is second no6\n",
            "3.8333333333333335\n",
            "type 'y' to continue calculation with 3.8333333333333335 or 'n' to start a new calculation 'z' to end : y\n",
            "what is first no34\n",
            "pic the operation(*,/,-,+):/\n",
            "what is second no5\n",
            "6.8\n",
            "type 'y' to continue calculation with 6.8 or 'n' to start a new calculation 'z' to end : n\n",
            "what is first no34\n",
            "pic the operation(*,/,-,+):/\n",
            "what is second no6\n",
            "5.666666666666667\n",
            "'c' for completed 'h' for continuec\n",
            "completed\n",
            "what is first no34\n",
            "pic the operation(*,/,-,+):/\n",
            "what is second no5\n",
            "6.8\n"
          ]
        }
      ],
      "source": [
        "def calc():\n",
        "  no1 = int(input(\"what is first no\"))\n",
        "  operation = input(\"pic the operation(*,/,-,+):\")\n",
        "  no2 = int(input(\"what is second no\"))\n",
        "  result = calculate(no1, no2, operation)\n",
        "  print(result)\n",
        "  return result\n",
        "def calculate(no1, no2, operation):\n",
        "  if operation == \"*\":\n",
        "    return no1 * no2\n",
        "  elif operation == \"/\":\n",
        "    return no1 / no2\n",
        "  elif operation == \"-\":\n",
        "    return no1 - no2\n",
        "  else:\n",
        "    return no1 + no2\n",
        "def cont(previous_result):\n",
        "  cont_choice = input(f\"type 'y' to continue calculation with {previous_result} or 'n' to start a new calculation 'z' to end : \")\n",
        "  if cont_choice.lower() == \"y\":\n",
        "    new_result = calc()\n",
        "    cont(new_result)\n",
        "    calc()\n",
        "  elif cont_choice.lower() ==\"n\":\n",
        "      calc()\n",
        "      hip=input(\"'c' for completed 'h' for continue\")\n",
        "      if hip == \"c\":\n",
        "        print(\"completed\")\n",
        "      elif hip == \"h\":\n",
        "        calc()\n",
        "  else:\n",
        "    print(\"great\")\n",
        "initial_result = calc()\n",
        "cont(initial_result)"
      ]
    },
    {
      "cell_type": "code",
      "execution_count": null,
      "metadata": {
        "id": "NfKhytEISLFk"
      },
      "outputs": [],
      "source": []
    }
  ],
  "metadata": {
    "colab": {
      "authorship_tag": "ABX9TyOwSo0zQWLjkGwjH7PFX5b9",
      "include_colab_link": true,
      "provenance": []
    },
    "kernelspec": {
      "display_name": "Python 3",
      "name": "python3"
    },
    "language_info": {
      "name": "python"
    }
  },
  "nbformat": 4,
  "nbformat_minor": 0
}
