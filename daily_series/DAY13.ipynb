{
  "cells": [
    {
      "cell_type": "markdown",
      "metadata": {
        "id": "K4GqcWRdeK7G"
      },
      "source": [
        "QUESTION 1\n",
        "\n",
        "\n",
        " def odd_or_even(number):\n",
        "\n",
        "    if number % 2 = 0:\n",
        "        return \"This is an even number.\"\n",
        "    else:\n",
        "        return \"This is an odd number.\""
      ]
    },
    {
      "cell_type": "code",
      "execution_count": 1,
      "metadata": {
        "id": "5OyHDt6CeM5m"
      },
      "outputs": [],
      "source": [
        "def odd_or_even(number):\n",
        "    if number % 2 == 0:\n",
        "        return \"This is an even number.\"\n",
        "    else:\n",
        "        return \"This is an odd number.\""
      ]
    },
    {
      "cell_type": "markdown",
      "metadata": {
        "id": "doEsaaj1g8u0"
      },
      "source": [
        "QUESTION 2\n",
        "\n",
        "def is_leap(year):\n",
        "\n",
        "\n",
        "\n",
        "\n",
        "    if year % 4 == 0:\n",
        "        if year % 100 == 0:\n",
        "            if year % 4000 == 0:\n",
        "                return True\n",
        "            else:\n",
        "                return False\n",
        "        else:\n",
        "            return True\n",
        "    else:\n",
        "        return False"
      ]
    },
    {
      "cell_type": "code",
      "execution_count": 2,
      "metadata": {
        "id": "CXcfj_z-hksl"
      },
      "outputs": [],
      "source": [
        "\n",
        "def is_leap(year):\n",
        "    if year % 4 == 0:\n",
        "        if year % 100 == 0:\n",
        "            if year % 400 == 0:\n",
        "                return True\n",
        "            else:\n",
        "                return False\n",
        "        else:\n",
        "            return True\n",
        "    else:\n",
        "        return False"
      ]
    },
    {
      "cell_type": "markdown",
      "metadata": {
        "id": "_VIybOk6hoCs"
      },
      "source": [
        "QUESTION 3\n",
        "\n",
        "def fizz_buzz(target):\n",
        "\n",
        "    for number in range(1, target + 1):\n",
        "        if number % 3 == 0 or number % 5 == 0:\n",
        "            print(\"FizzBuzz\")\n",
        "        if number % 3 == 0:\n",
        "            print(\"Fizz\")\n",
        "        if number % 5 == 0:\n",
        "            print(\"Buzz\")\n",
        "        else:\n",
        "            print(number)\n",
        "\n",
        "\n"
      ]
    },
    {
      "cell_type": "code",
      "execution_count": 3,
      "metadata": {
        "id": "ZjDo4-y5h8Qp"
      },
      "outputs": [],
      "source": [
        "def fizz_buzz(target):\n",
        "    for number in range(1, target + 1):\n",
        "        if number % 3 == 0 and number % 5 == 0:\n",
        "            print(\"FizzBuzz\")\n",
        "        elif number % 3 == 0:\n",
        "            print(\"Fizz\")\n",
        "        elif number % 5 == 0:\n",
        "            print(\"Buzz\")\n",
        "        else:\n",
        "            print(number)\n"
      ]
    }
  ],
  "metadata": {
    "colab": {
      "authorship_tag": "ABX9TyP9m8cpSyx/qE/4aQDRJbis",
      "include_colab_link": true,
      "provenance": []
    },
    "kernelspec": {
      "display_name": "Python 3",
      "name": "python3"
    },
    "language_info": {
      "name": "python"
    }
  },
  "nbformat": 4,
  "nbformat_minor": 0
}
