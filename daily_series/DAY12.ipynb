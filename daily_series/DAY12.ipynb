{
  "cells": [
    {
      "cell_type": "code",
      "execution_count": 1,
      "metadata": {
        "colab": {
          "base_uri": "https://localhost:8080/"
        },
        "id": "Oogz7cqEGTRE",
        "outputId": "172535d5-25d1-4af6-e18b-14fd15ecce71"
      },
      "outputs": [
        {
          "name": "stdout",
          "output_type": "stream",
          "text": [
            "enimies is 2\n",
            "enimies is 0\n"
          ]
        }
      ],
      "source": [
        "enimies = 0\n",
        "def incr_enemy():\n",
        "  enimies = 2\n",
        "  print(f\"enimies is {enimies}\")\n",
        "incr_enemy()\n",
        "print(f\"enimies is {enimies}\")"
      ]
    },
    {
      "cell_type": "code",
      "execution_count": 2,
      "metadata": {
        "colab": {
          "base_uri": "https://localhost:8080/"
        },
        "id": "KFIrms_CQIQM",
        "outputId": "38e3b9bc-2ef5-41fb-9faa-e8b594c642d6"
      },
      "outputs": [
        {
          "name": "stdout",
          "output_type": "stream",
          "text": [
            "potion is 2\n",
            "potion is 2\n"
          ]
        }
      ],
      "source": [
        "potion = 2\n",
        "def potion_drink():\n",
        "  potion = 2\n",
        "  print(f\"potion is {potion}\")\n",
        "potion_drink()\n",
        "print(f\"potion is {potion}\")"
      ]
    },
    {
      "cell_type": "code",
      "execution_count": 3,
      "metadata": {
        "colab": {
          "base_uri": "https://localhost:8080/"
        },
        "id": "taSG2y8GQle_",
        "outputId": "61f2e1f4-71af-4d75-aa57-4465c92364e2"
      },
      "outputs": [
        {
          "name": "stdout",
          "output_type": "stream",
          "text": [
            "potion is 0\n"
          ]
        }
      ],
      "source": [
        "player_health = 0\n",
        "def potion_drink():\n",
        "  potion = 2\n",
        "  print(f\"potion is {player_health}\")\n",
        "potion_drink()"
      ]
    },
    {
      "cell_type": "code",
      "execution_count": 4,
      "metadata": {
        "id": "Il3enTfTk4yB"
      },
      "outputs": [],
      "source": [
        "game_level = 14\n",
        "enimies = [\"family\",\"friends\",\"love\"]\n",
        "def create_enemy():\n",
        " if game_level < 5:\n",
        "  new_enemy = \" \"\n",
        "  new_enemy = enimies[1]\n",
        "  print(new_enemy)\n",
        "create_enemy()"
      ]
    },
    {
      "cell_type": "code",
      "execution_count": 5,
      "metadata": {
        "colab": {
          "base_uri": "https://localhost:8080/"
        },
        "id": "Ss9rIX_QmEMV",
        "outputId": "18bf0743-d30a-4729-fe87-2f615f31fd20"
      },
      "outputs": [
        {
          "data": {
            "text/plain": [
              "True"
            ]
          },
          "execution_count": 5,
          "metadata": {},
          "output_type": "execute_result"
        }
      ],
      "source": [
        "def is_prime(num):\n",
        "    if num == 2:\n",
        "        return True\n",
        "    if num == 1:\n",
        "        return False\n",
        "    for i in range(2, num):\n",
        "        if num % i == 0:\n",
        "            return False\n",
        "    return True\n",
        "is_prime(23)"
      ]
    },
    {
      "cell_type": "code",
      "execution_count": 6,
      "metadata": {
        "colab": {
          "base_uri": "https://localhost:8080/"
        },
        "id": "NbZeMdmco3jd",
        "outputId": "85fdb718-8683-40dd-b074-88a31b36266d"
      },
      "outputs": [
        {
          "name": "stdout",
          "output_type": "stream",
          "text": [
            "outside family\n",
            "inside friends \n"
          ]
        }
      ],
      "source": [
        "enemy = \"family\"\n",
        "def incr_enemy():\n",
        "  enemy = \"friends \"\n",
        "  print(f\"inside {enemy}\")\n",
        "print(f\"outside {enemy}\")\n",
        "incr_enemy()"
      ]
    },
    {
      "cell_type": "code",
      "execution_count": 7,
      "metadata": {
        "colab": {
          "base_uri": "https://localhost:8080/"
        },
        "id": "fmTYuxLQ-yCi",
        "outputId": "84156987-12f7-4c81-d203-a2a9949a17cf"
      },
      "outputs": [
        {
          "name": "stdout",
          "output_type": "stream",
          "text": [
            "2\n"
          ]
        }
      ],
      "source": [
        "enemies = 1\n",
        "def increase_enemies():\n",
        "    global enemies\n",
        "    enemies += 1\n",
        "increase_enemies()\n",
        "print(enemies)"
      ]
    },
    {
      "cell_type": "code",
      "execution_count": 15,
      "metadata": {
        "colab": {
          "base_uri": "https://localhost:8080/"
        },
        "id": "a3e27b7a",
        "outputId": "1f03e735-f54d-4459-dc64-be620bbe2d5b"
      },
      "outputs": [
        {
          "name": "stdout",
          "output_type": "stream",
          "text": [
            "Welcome to the Number Guessing Game!\n",
            "I'm thinking of a number between 1 and 100.\n",
            "Choose a difficulty (easy or hard): hard\n",
            "Make a guess: 23\n",
            "Too low! Try again.\n",
            "Make a guess: 56\n",
            "Too low! Try again.\n",
            "Make a guess: 79\n",
            "Too high! Try again.\n",
            "Make a guess: 76\n",
            "Too high! Try again.\n",
            "Make a guess: 75\n",
            "Too high! Try again.\n",
            "Sorry! You've used all your attempts. The number was 70.\n"
          ]
        }
      ],
      "source": [
        "import random\n",
        "def get_difficulty():\n",
        "  difficulty = input(\"Choose a difficulty (easy or hard): \").lower()\n",
        "  if difficulty == 'easy':\n",
        "    max_attempts = 10\n",
        "  elif difficulty == 'hard':\n",
        "    max_attempts = 5\n",
        "  else:\n",
        "    print(\"Invalid difficulty! Defaulting to easy.\")\n",
        "    max_attempts = 10\n",
        "  return max_attempts\n",
        "def check_guess(guess, number_to_guess):\n",
        "    if guess < number_to_guess:\n",
        "        print(\"Too low! Try again.\")\n",
        "        return False\n",
        "    elif guess > number_to_guess:\n",
        "        print(\"Too high! Try again.\")\n",
        "        return False\n",
        "    else:\n",
        "        print(f\"Congratulations! You've guessed the right number: {number_to_guess}.\")\n",
        "        return True\n",
        "print(\"Welcome to the Number Guessing Game!\")\n",
        "print(\"I'm thinking of a number between 1 and 100.\")\n",
        "max_attempts = get_difficulty()\n",
        "number_to_guess = random.randint(1, 100)\n",
        "attempts = 0\n",
        "while attempts < max_attempts:\n",
        "    try:\n",
        "        guess = int(input(\"Make a guess: \"))\n",
        "    except ValueError:\n",
        "        print(\"Please enter a valid number.\")\n",
        "        continue\n",
        "    attempts += 1\n",
        "    if check_guess(guess, number_to_guess):\n",
        "        break\n",
        "else:\n",
        "    print(f\"Sorry! You've used all your attempts. The number was {number_to_guess}.\")"
      ]
    }
  ],
  "metadata": {
    "colab": {
      "authorship_tag": "ABX9TyPfNXjKJbn3w64jsAn4CVV0",
      "include_colab_link": true,
      "provenance": []
    },
    "kernelspec": {
      "display_name": "Python 3",
      "name": "python3"
    },
    "language_info": {
      "name": "python"
    }
  },
  "nbformat": 4,
  "nbformat_minor": 0
}
