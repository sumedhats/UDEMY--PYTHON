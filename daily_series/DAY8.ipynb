{
  "nbformat": 4,
  "nbformat_minor": 0,
  "metadata": {
    "colab": {
      "provenance": []
    },
    "kernelspec": {
      "name": "python3",
      "display_name": "Python 3"
    },
    "language_info": {
      "name": "python"
    }
  },
  "cells": [
    {
      "cell_type": "code",
      "execution_count": 2,
      "metadata": {
        "colab": {
          "base_uri": "https://localhost:8080/"
        },
        "id": "TYyllGl4G5HT",
        "outputId": "9bae4c2d-0735-43eb-bd7f-36c0020a0e86"
      },
      "outputs": [
        {
          "output_type": "stream",
          "name": "stdout",
          "text": [
            "Hello\n",
            "How do u do?\n",
            "How is the weather?\n",
            "Hello\n",
            "How do u do?\n",
            "How is the weather?\n"
          ]
        }
      ],
      "source": [
        "def greet():\n",
        "  print(\"Hello\")\n",
        "  print(\"How do u do?\")\n",
        "  print(\"How is the weather?\")\n",
        "greet()\n",
        "greet()\n",
        "\n"
      ]
    },
    {
      "cell_type": "code",
      "source": [
        "def greet(name):\n",
        "   print(f\"Hello {name}\")\n",
        "   print(f\"How do u do? {name}\")\n",
        "   print(f\"How is the weather {name}?\")\n",
        "greet(\"chinnu\")"
      ],
      "metadata": {
        "colab": {
          "base_uri": "https://localhost:8080/"
        },
        "id": "TBEODg8rJJxq",
        "outputId": "c60838f3-b9f7-49be-95a7-0512b184d141"
      },
      "execution_count": 17,
      "outputs": [
        {
          "output_type": "stream",
          "name": "stdout",
          "text": [
            "Hello chinnu\n",
            "How do u do? chinnu\n",
            "How is the weather chinnu?\n"
          ]
        }
      ]
    },
    {
      "cell_type": "code",
      "source": [
        "def life_in_weeks(age):\n",
        "  weeks_u_lived = age * 52\n",
        "  weeks_remaining = 4620 - weeks_u_lived\n",
        "  print(f\"You have {weeks_remaining} weeks left\")\n",
        "life_in_weeks(19)\n"
      ],
      "metadata": {
        "colab": {
          "base_uri": "https://localhost:8080/"
        },
        "id": "5-HJ1UDyL89n",
        "outputId": "5098906b-7678-4d9d-e491-fb447969797c"
      },
      "execution_count": 21,
      "outputs": [
        {
          "output_type": "stream",
          "name": "stdout",
          "text": [
            "You have 3632 weeks left\n"
          ]
        }
      ]
    },
    {
      "cell_type": "code",
      "source": [
        "def life_in_weeks(age):\n",
        "    years_remaining = 90 - age\n",
        "    weeks_left = years_remaining * 52\n",
        "    print(f\"You have {weeks_left} weeks left.\")\n",
        "life_in_weeks(19)"
      ],
      "metadata": {
        "colab": {
          "base_uri": "https://localhost:8080/"
        },
        "id": "5JmD93_qM2KT",
        "outputId": "6f727493-f90f-4acb-f276-54f5fd118a46"
      },
      "execution_count": 23,
      "outputs": [
        {
          "output_type": "stream",
          "name": "stdout",
          "text": [
            "You have 3692 weeks left.\n"
          ]
        }
      ]
    },
    {
      "cell_type": "code",
      "source": [
        "def welcome(name,location):\n",
        "  print(f\"Hello {name}\")\n",
        "  print(f\"Welcome to {location}\")\n",
        "welcome(\"sumi\",\"Ladakh\")"
      ],
      "metadata": {
        "colab": {
          "base_uri": "https://localhost:8080/"
        },
        "id": "GxIMOMH2Ngr4",
        "outputId": "1b1560b5-83c7-41b5-fbd3-bbe98578536a"
      },
      "execution_count": 28,
      "outputs": [
        {
          "output_type": "stream",
          "name": "stdout",
          "text": [
            "Hello sumi\n",
            "Welcome to Ladakh\n"
          ]
        }
      ]
    },
    {
      "cell_type": "code",
      "source": [
        "def welcome(name=\"sumi\",location=\"ladakh\"):\n",
        "  print(f\"Hello {name}\")\n",
        "  print(f\"Welcome to {location}\")\n",
        "welcome()"
      ],
      "metadata": {
        "colab": {
          "base_uri": "https://localhost:8080/"
        },
        "id": "IWbTLI96OJr3",
        "outputId": "f8215008-1595-45ee-c3e7-b6388e769ce7"
      },
      "execution_count": 35,
      "outputs": [
        {
          "output_type": "stream",
          "name": "stdout",
          "text": [
            "Hello sumi\n",
            "Welcome to ladakh\n"
          ]
        }
      ]
    }
  ]
}