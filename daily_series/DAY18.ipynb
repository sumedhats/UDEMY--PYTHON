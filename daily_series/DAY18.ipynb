{
 "cells": [
  {
   "cell_type": "markdown",
   "id": "8c98cbaf",
   "metadata": {},
   "source": [
    "draw a square"
   ]
  },
  {
   "cell_type": "code",
   "execution_count": 1,
   "id": "c1b848ad",
   "metadata": {},
   "outputs": [],
   "source": [
    "from turtle import Turtle,Screen\n",
    "viki_the_turtle = Turtle()\n",
    "viki_the_turtle.shape(\"turtle\")\n",
    "viki_the_turtle.color(\"green\")\n",
    "viki_the_turtle.speed(1)\n",
    "def square(): \n",
    "  viki_the_turtle.forward(100)\n",
    "  viki_the_turtle.right(90)\n",
    "square()\n",
    "square()\n",
    "square()\n",
    "square()\n"
   ]
  },
  {
   "cell_type": "markdown",
   "id": "f72fcd0a",
   "metadata": {},
   "source": [
    "draw a dashed line"
   ]
  },
  {
   "cell_type": "code",
   "execution_count": 2,
   "id": "a88da229",
   "metadata": {},
   "outputs": [],
   "source": [
    "from turtle import Turtle,Screen\n",
    "viki_the_turtle = Turtle()\n",
    "viki_the_turtle.shape(\"turtle\")\n",
    "viki_the_turtle.color(\"green\")\n",
    "viki_the_turtle.pensize(5)\n",
    "for _ in range(10):\n",
    "    viki_the_turtle.pendown()\n",
    "    viki_the_turtle.forward(5)   \n",
    "    viki_the_turtle.penup()\n",
    "    viki_the_turtle.forward(5) \n",
    "\n"
   ]
  },
  {
   "cell_type": "markdown",
   "id": "0ffd2e0d",
   "metadata": {},
   "source": [
    "Tuples\n",
    "   are a list which is immutable"
   ]
  },
  {
   "cell_type": "code",
   "execution_count": 3,
   "id": "42844af1",
   "metadata": {},
   "outputs": [
    {
     "data": {
      "text/plain": [
       "9"
      ]
     },
     "execution_count": 3,
     "metadata": {},
     "output_type": "execute_result"
    }
   ],
   "source": [
    "suvi = (2,7,8,9)\n",
    "suvi[3]"
   ]
  }
 ],
 "metadata": {
  "kernelspec": {
   "display_name": "Python 3",
   "language": "python",
   "name": "python3"
  },
  "language_info": {
   "codemirror_mode": {
    "name": "ipython",
    "version": 3
   },
   "file_extension": ".py",
   "mimetype": "text/x-python",
   "name": "python",
   "nbconvert_exporter": "python",
   "pygments_lexer": "ipython3",
   "version": "3.11.13"
  }
 },
 "nbformat": 4,
 "nbformat_minor": 5
}
