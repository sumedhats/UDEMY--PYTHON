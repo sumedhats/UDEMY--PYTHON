{
  "cells": [
    {
      "cell_type": "code",
      "execution_count": 7,
      "metadata": {
        "colab": {
          "base_uri": "https://localhost:8080/"
        },
        "id": "Q682RNGShJL1",
        "outputId": "bf7aeae9-4bc5-4a35-fd62-31dfa986ecef"
      },
      "outputs": [
        {
          "name": "stdout",
          "output_type": "stream",
          "text": [
            "HIGHER-LOWER GAME\n",
            "Score: 0\n",
            "\n",
            "A: VIRAT KOHLI ???\n",
            "VS\n",
            "B: NARENDRA MODI???\n",
            "Who has more followers? Type A or B: a\n",
            "Good guess!\n",
            "HIGHER-LOWER GAME\n",
            "Score: 1\n",
            "\n",
            "A: NARENDRA MODI ???\n",
            "VS\n",
            "B: Selena Gomez???\n",
            "Who has more followers? Type A or B: a\n",
            "Wrong guess!\n",
            "Final Score: 1\n",
            "\n",
            "Do you want to play again? (Y/N): n\n",
            "Thanks for playing!\n"
          ]
        }
      ],
      "source": [
        "import random\n",
        "data = [\n",
        "    {'Name': 'VIRAT KOHLI', 'Follower': '273'},\n",
        "    {'Name': 'PRIYANKA CHOPRA', 'Follower': '92.6'},\n",
        "    {'Name': 'NARENDRA MODI', 'Follower': '95'},\n",
        "    {'Name': 'DONALD TRUMP', 'Follower': '6.3'},\n",
        "    {'Name': 'SACHIN TENDULKAR', 'Follower': '50.5'},\n",
        "    {'Name': 'YASH', 'Follower': '14'},\n",
        "    {\"Name\": \"Instagram\", \"Follower\": 566},\n",
        "    {\"Name\": \"Cristiano Ronaldo\", \"Follower\": 617},\n",
        "    {\"Name\": \"Ariana Grande\", \"Follower\": 365},\n",
        "    {\"Name\": \"Dwayne Johnson\", \"Follower\": 455},\n",
        "    {\"Name\": \"Selena Gomez\", \"Follower\": 383},\n",
        "    {\"Name\": \"Kylie Jenner\", \"Follower\": 395}\n",
        "]\n",
        "while True:\n",
        "    score = 0\n",
        "    person_a = random.choice(data)\n",
        "    person_b = random.choice(data)\n",
        "    while person_b == person_a:\n",
        "        person_b = random.choice(data)\n",
        "    while True:\n",
        "        print(\"HIGHER-LOWER GAME\")\n",
        "        print(f\"Score: {score}\")\n",
        "        print(f\"\\nA: {person_a['Name']} ???\")\n",
        "        print(\"VS\")\n",
        "        print(f\"B: {person_b['Name']}???\")\n",
        "        guess = input(\"Who has more followers? Type A or B: \").lower()\n",
        "        try:\n",
        "            a_count = float(person_a['Follower'])\n",
        "            b_count = float(person_b['Follower'])\n",
        "        except ValueError:\n",
        "            print(\"Error converting follower count to a number.\")\n",
        "            continue\n",
        "        if a_count > b_count:\n",
        "            correct = \"a\"\n",
        "        elif a_count < b_count:\n",
        "            correct = \"b\"\n",
        "        else:\n",
        "            correct = \"both\"\n",
        "        if guess == correct:\n",
        "            print(\"Good guess!\")\n",
        "            score += 1\n",
        "            person_a = person_b\n",
        "            person_b = random.choice(data)\n",
        "            while person_b == person_a:\n",
        "                person_b = random.choice(data)\n",
        "        else:\n",
        "            print(\"Wrong guess!\")\n",
        "            print(f\"Final Score: {score}\")\n",
        "            break\n",
        "    again = input(\"\\nDo you want to play again? (Y/N): \").upper()\n",
        "    if again != \"Y\":\n",
        "        print(\"Thanks for playing!\")\n",
        "        break"
      ]
    },
    {
      "cell_type": "code",
      "execution_count": null,
      "metadata": {
        "colab": {
          "base_uri": "https://localhost:8080/"
        },
        "id": "q-KUIKhlTqhY",
        "outputId": "6a22dce4-8abf-429a-cc2d-67ddd128f691"
      },
      "outputs": [
        {
          "name": "stdout",
          "output_type": "stream",
          "text": [
            "\n",
            "\n",
            "\n",
            "\n",
            "\n",
            "\n",
            "\n",
            "\n",
            "\n",
            "\n",
            "\n",
            "HIGHER-LOWER GAME\n",
            "Score: 0\n",
            "\n",
            "A: Ariana Grande with ??? followers\n",
            "vs\n",
            "B: Instagram with ??? followers\n",
            "\n",
            "Who has more followers? Type A or B: a\n",
            "Wrong!\n",
            "Final Score: 0\n",
            "\n",
            "Do you want to play again? (Y/N): n\n",
            "Thanks for playing!\n"
          ]
        }
      ],
      "source": []
    }
  ],
  "metadata": {
    "colab": {
      "authorship_tag": "ABX9TyOSESkhpkkaQtX1fK/D9ATB",
      "include_colab_link": true,
      "provenance": []
    },
    "kernelspec": {
      "display_name": "Python 3",
      "name": "python3"
    },
    "language_info": {
      "name": "python"
    }
  },
  "nbformat": 4,
  "nbformat_minor": 0
}
