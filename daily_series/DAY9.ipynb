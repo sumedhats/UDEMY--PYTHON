{
  "cells": [
    {
      "cell_type": "code",
      "execution_count": null,
      "metadata": {
        "colab": {
          "base_uri": "https://localhost:8080/"
        },
        "id": "3lOzwbFkqPUu",
        "outputId": "e314e64b-ce9c-4ad7-db63-8ac924df542f"
      },
      "outputs": [
        {
          "name": "stdout",
          "output_type": "stream",
          "text": [
            "vikas\n"
          ]
        }
      ],
      "source": [
        "names = {\"sumi\": \"sumedha\",\"chinni\": \"vikas\"}\n",
        "print(names[\"chinni\"])"
      ]
    },
    {
      "cell_type": "code",
      "execution_count": null,
      "metadata": {
        "colab": {
          "base_uri": "https://localhost:8080/"
        },
        "id": "J8CUKxrFuwSl",
        "outputId": "6b102500-0309-479b-af7d-2e156b1604d4"
      },
      "outputs": [
        {
          "name": "stdout",
          "output_type": "stream",
          "text": [
            "gundu\n"
          ]
        }
      ],
      "source": [
        "names = {\"sumi\": \"sumedha\",\"chinni\": \"vikas\"}\n",
        "names[\"chinni\"] = \"gundu\"\n",
        "print(names[\"chinni\"])"
      ]
    },
    {
      "cell_type": "code",
      "execution_count": null,
      "metadata": {
        "colab": {
          "base_uri": "https://localhost:8080/"
        },
        "id": "cJTLv-NsvDsg",
        "outputId": "f37e3c3f-95ef-480e-ef2f-9ba00414b2e9"
      },
      "outputs": [
        {
          "name": "stdout",
          "output_type": "stream",
          "text": [
            "sumi\n",
            "chinni\n"
          ]
        }
      ],
      "source": [
        "for thing in names:\n",
        "  print(thing)\n"
      ]
    },
    {
      "cell_type": "code",
      "execution_count": null,
      "metadata": {
        "colab": {
          "base_uri": "https://localhost:8080/"
        },
        "id": "rZwzPmCMvRtY",
        "outputId": "af171b87-a31e-4356-f582-2c466e976a1c"
      },
      "outputs": [
        {
          "name": "stdout",
          "output_type": "stream",
          "text": [
            "sumi\n",
            "chinni\n",
            "sumedha\n"
          ]
        }
      ],
      "source": [
        "for thing in names:\n",
        "  print(thing)\n",
        "print(names[\"sumi\"])"
      ]
    },
    {
      "cell_type": "code",
      "execution_count": null,
      "metadata": {
        "id": "k8-7uDjexBvS"
      },
      "outputs": [],
      "source": [
        "student_scores = {\n",
        "    'Harry': 88,\n",
        "    'Ron': 78,\n",
        "    'Hermione': 95,\n",
        "    'Draco': 75,\n",
        "    'Neville': 60\n",
        "}\n",
        "student_grades ={}\n",
        "for student in student_scores:\n",
        "    score = student_scores[student]\n",
        "    if score >= 91:\n",
        "        student_grades[student] = 'Outstanding'\n",
        "    elif score >= 81:\n",
        "        student_grades[student] = 'Exceeds Expectations'\n",
        "    elif score >= 71:\n",
        "        student_grades[student] = 'Acceptable'\n",
        "    else:\n",
        "        student_grades[student] = 'Fail'"
      ]
    },
    {
      "cell_type": "code",
      "execution_count": 8,
      "metadata": {
        "colab": {
          "base_uri": "https://localhost:8080/"
        },
        "id": "m2a2k69MxOyr",
        "outputId": "aa44f8d1-9a8a-4419-b7f4-32c30c03d434"
      },
      "outputs": [
        {
          "name": "stdout",
          "output_type": "stream",
          "text": [
            "Enter your name:  sumi \n",
            "Enter your bid: ₹100\n",
            "Are there any other bidders? Type 'yes' or 'no': yes\n",
            "Enter your name: suvi\n",
            "Enter your bid: ₹200\n",
            "Are there any other bidders? Type 'yes' or 'no': no\n",
            "\n",
            "The winner is suvi with a bid of ₹200\n"
          ]
        }
      ],
      "source": [
        "def bidding():\n",
        "    name = input(\"Enter your name: \")\n",
        "    price = int(input(\"Enter your bid: ₹\"))\n",
        "    return name, price\n",
        "\n",
        "def find_highest_bidder(bidding_record):\n",
        "    highest_bid = 0\n",
        "    winner = \"\"\n",
        "    for bidder in bidding_record:\n",
        "        bid_amount = bidding_record[bidder]\n",
        "        if bid_amount > highest_bid:\n",
        "            highest_bid = bid_amount\n",
        "            winner = bidder\n",
        "    print(f\"\\nThe winner is {winner} with a bid of ₹{highest_bid}\")\n",
        "\n",
        "# Main auction logic\n",
        "all_bids = {}\n",
        "more_bidders = 'yes'\n",
        "\n",
        "while more_bidders == 'yes':\n",
        "    name, price = bidding()\n",
        "    all_bids[name] = price\n",
        "    more_bidders = input(\"Are there any other bidders? Type 'yes' or 'no': \").lower()\n",
        "\n",
        "# After all bids collected, find winner\n",
        "find_highest_bidder(all_bids)\n"
      ]
    }
  ],
  "metadata": {
    "colab": {
      "authorship_tag": "ABX9TyOIh9JO5yk/V0tJHn+ghUov",
      "include_colab_link": true,
      "provenance": []
    },
    "kernelspec": {
      "display_name": "Python 3",
      "name": "python3"
    },
    "language_info": {
      "name": "python"
    }
  },
  "nbformat": 4,
  "nbformat_minor": 0
}
