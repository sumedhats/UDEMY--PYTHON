{
 "cells": [
  {
   "cell_type": "code",
   "execution_count": 1,
   "id": "c6777d93",
   "metadata": {},
   "outputs": [
    {
     "name": "stdout",
     "output_type": "stream",
     "text": [
      "h\n"
     ]
    }
   ],
   "source": [
    "print(\"hello\"[0])"
   ]
  },
  {
   "cell_type": "code",
   "execution_count": 2,
   "id": "294486ba",
   "metadata": {},
   "outputs": [
    {
     "name": "stdout",
     "output_type": "stream",
     "text": [
      "o\n"
     ]
    }
   ],
   "source": [
    "print(\"hello\"[4])"
   ]
  },
  {
   "cell_type": "code",
   "execution_count": 3,
   "id": "5f31118a",
   "metadata": {},
   "outputs": [
    {
     "name": "stdout",
     "output_type": "stream",
     "text": [
      "l\n"
     ]
    }
   ],
   "source": [
    "print(\"hello\"[-3])"
   ]
  },
  {
   "cell_type": "code",
   "execution_count": 4,
   "id": "10684462",
   "metadata": {},
   "outputs": [
    {
     "name": "stdout",
     "output_type": "stream",
     "text": [
      "123456\n"
     ]
    }
   ],
   "source": [
    "print(\"123\" + \"456\")"
   ]
  },
  {
   "cell_type": "code",
   "execution_count": 5,
   "id": "f263506c",
   "metadata": {},
   "outputs": [
    {
     "name": "stdout",
     "output_type": "stream",
     "text": [
      "579\n"
     ]
    }
   ],
   "source": [
    "print(123 + 456)"
   ]
  },
  {
   "cell_type": "code",
   "execution_count": 6,
   "id": "0a3ea476",
   "metadata": {},
   "outputs": [
    {
     "name": "stdout",
     "output_type": "stream",
     "text": [
      "123456789\n"
     ]
    }
   ],
   "source": [
    "print(123_456_789)"
   ]
  },
  {
   "cell_type": "code",
   "execution_count": 7,
   "id": "dd581182",
   "metadata": {},
   "outputs": [
    {
     "name": "stdout",
     "output_type": "stream",
     "text": [
      "1.345\n"
     ]
    }
   ],
   "source": [
    "print(1.345)"
   ]
  },
  {
   "cell_type": "code",
   "execution_count": 8,
   "id": "ffdc8ea9",
   "metadata": {},
   "outputs": [
    {
     "name": "stdout",
     "output_type": "stream",
     "text": [
      "True\n",
      "False\n"
     ]
    }
   ],
   "source": [
    "print(True)\n",
    "print(False)"
   ]
  },
  {
   "cell_type": "code",
   "execution_count": 9,
   "id": "1f880215",
   "metadata": {},
   "outputs": [
    {
     "data": {
      "text/plain": [
       "3"
      ]
     },
     "execution_count": 9,
     "metadata": {},
     "output_type": "execute_result"
    }
   ],
   "source": [
    "len(\"345\")"
   ]
  },
  {
   "cell_type": "code",
   "execution_count": 10,
   "id": "1116b75a",
   "metadata": {},
   "outputs": [
    {
     "name": "stdout",
     "output_type": "stream",
     "text": [
      "<class 'str'>\n"
     ]
    }
   ],
   "source": [
    "print(type(\"qq\"))"
   ]
  },
  {
   "cell_type": "code",
   "execution_count": 11,
   "id": "305b6a1e",
   "metadata": {},
   "outputs": [
    {
     "name": "stdout",
     "output_type": "stream",
     "text": [
      "<class 'int'>\n",
      "<class 'float'>\n",
      "<class 'bool'>\n",
      "<class 'str'>\n"
     ]
    }
   ],
   "source": [
    "print(type(123))\n",
    "print(type(1.34))\n",
    "print(type(False))\n",
    "print(type(\"qq\"))"
   ]
  },
  {
   "cell_type": "code",
   "execution_count": 12,
   "id": "b09fe939",
   "metadata": {},
   "outputs": [
    {
     "name": "stdout",
     "output_type": "stream",
     "text": [
      "579\n"
     ]
    }
   ],
   "source": [
    "print(int(\"123\")+ int(\"456\"))\n"
   ]
  },
  {
   "cell_type": "code",
   "execution_count": 13,
   "id": "ebc6a067",
   "metadata": {},
   "outputs": [
    {
     "name": "stdout",
     "output_type": "stream",
     "text": [
      " name_of_the_user 4\n"
     ]
    }
   ],
   "source": [
    "name_of_the_user = input(\"name \")\n",
    "no_of_letters = len(name_of_the_user) \n",
    "print(\" name_of_the_user \" + str(no_of_letters)) "
   ]
  },
  {
   "cell_type": "code",
   "execution_count": 14,
   "id": "907adf62",
   "metadata": {},
   "outputs": [
    {
     "name": "stdout",
     "output_type": "stream",
     "text": [
      "5\n",
      "-1\n",
      "6\n",
      "0.6666666666666666\n",
      "8\n",
      "0\n",
      "7.0\n"
     ]
    }
   ],
   "source": [
    "print(2+3)\n",
    "print(2-3)\n",
    "print(2*3)\n",
    "print(2/3)\n",
    "print(2**3)\n",
    "print(2//3)\n",
    "print(3*3+ 3/3-3) "
   ]
  },
  {
   "cell_type": "code",
   "execution_count": null,
   "id": "4797c6c7",
   "metadata": {},
   "outputs": [],
   "source": []
  },
  {
   "cell_type": "code",
   "execution_count": 15,
   "id": "17dea973",
   "metadata": {},
   "outputs": [
    {
     "name": "stdout",
     "output_type": "stream",
     "text": [
      "30.85399449035813\n",
      "30\n",
      "31\n"
     ]
    }
   ],
   "source": [
    "#task 1 BMI Calculator\n",
    "# The body mass index (BMI) is a measure used in medicine to see if someone is underweight or overweight. This is the formula used to calculate it:\n",
    "# bmi is equal to the person's weight divided by the person's height squared.\n",
    "# Convert this sentence into code on line 6.\n",
    "height = 1.65 \n",
    "weight = 84 \n",
    "bmi = weight/(height**2)\n",
    "print(bmi)\n",
    "print(int(bmi))\n",
    "print(round(bmi))"
   ]
  },
  {
   "cell_type": "code",
   "execution_count": 16,
   "id": "322cd2f7",
   "metadata": {},
   "outputs": [
    {
     "name": "stdout",
     "output_type": "stream",
     "text": [
      "1\n"
     ]
    }
   ],
   "source": [
    "# code 12\n",
    "score = 0\n",
    "score += 1\n",
    "print(int(score)) "
   ]
  },
  {
   "cell_type": "code",
   "execution_count": 17,
   "id": "1efd1334",
   "metadata": {},
   "outputs": [
    {
     "name": "stdout",
     "output_type": "stream",
     "text": [
      "score: 1, height: 1.4, is_winning: True\n"
     ]
    }
   ],
   "source": [
    "\n",
    "score = 1\n",
    "height = 1.4\n",
    "is_winning = True\n",
    "print(f\"score: {score}, height: {height}, is_winning: {is_winning}\") "
   ]
  }
 ],
 "metadata": {
  "kernelspec": {
   "display_name": "base",
   "language": "python",
   "name": "python3"
  },
  "language_info": {
   "codemirror_mode": {
    "name": "ipython",
    "version": 3
   },
   "file_extension": ".py",
   "mimetype": "text/x-python",
   "name": "python",
   "nbconvert_exporter": "python",
   "pygments_lexer": "ipython3",
   "version": "3.12.7"
  }
 },
 "nbformat": 4,
 "nbformat_minor": 5
}
