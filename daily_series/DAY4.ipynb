{
 "cells": [
  {
   "cell_type": "code",
   "execution_count": 1,
   "id": "d0a70171",
   "metadata": {},
   "outputs": [
    {
     "name": "stdout",
     "output_type": "stream",
     "text": [
      "1\n"
     ]
    }
   ],
   "source": [
    " #case 1\n",
    "import random \n",
    "random_number = random.randint(1,10)\n",
    "print(random_number)"
   ]
  },
  {
   "cell_type": "code",
   "execution_count": 6,
   "id": "d032351a",
   "metadata": {},
   "outputs": [
    {
     "ename": "ModuleNotFoundError",
     "evalue": "No module named 'trial'",
     "output_type": "error",
     "traceback": [
      "\u001b[0;31m---------------------------------------------------------------------------\u001b[0m",
      "\u001b[0;31mModuleNotFoundError\u001b[0m                       Traceback (most recent call last)",
      "Cell \u001b[0;32mIn[6], line 7\u001b[0m\n\u001b[1;32m      4\u001b[0m sys\u001b[38;5;241m.\u001b[39mpath\u001b[38;5;241m.\u001b[39mappend(os\u001b[38;5;241m.\u001b[39mgetcwd())\n\u001b[1;32m      6\u001b[0m \u001b[38;5;66;03m# Import the custom module\u001b[39;00m\n\u001b[0;32m----> 7\u001b[0m \u001b[38;5;28;01mimport\u001b[39;00m \u001b[38;5;21;01mtrial\u001b[39;00m\n\u001b[1;32m      9\u001b[0m \u001b[38;5;66;03m# Accessing data from the module\u001b[39;00m\n\u001b[1;32m     10\u001b[0m \u001b[38;5;28mprint\u001b[39m(\u001b[38;5;124m\"\u001b[39m\u001b[38;5;124mRandom number from trial.py:\u001b[39m\u001b[38;5;124m\"\u001b[39m, trial\u001b[38;5;241m.\u001b[39mrandom_number)\n",
      "\u001b[0;31mModuleNotFoundError\u001b[0m: No module named 'trial'"
     ]
    }
   ],
   "source": [
    "# Ensure Python knows to look in the current directory for trial.py\n",
    "import sys\n",
    "import os\n",
    "sys.path.append(os.getcwd())\n",
    "\n",
    "# Import the custom module\n",
    "import trial\n",
    "\n",
    "# Accessing data from the module\n",
    "print(\"Random number from trial.py:\", trial.random_number)\n",
    "\n",
    "# Using a function from the module\n",
    "name = input(\"Enter your name: \")\n",
    "print(trial.greet(name))\n"
   ]
  }
 ],
 "metadata": {
  "kernelspec": {
   "display_name": "base",
   "language": "python",
   "name": "python3"
  },
  "language_info": {
   "codemirror_mode": {
    "name": "ipython",
    "version": 3
   },
   "file_extension": ".py",
   "mimetype": "text/x-python",
   "name": "python",
   "nbconvert_exporter": "python",
   "pygments_lexer": "ipython3",
   "version": "3.12.7"
  }
 },
 "nbformat": 4,
 "nbformat_minor": 5
}
