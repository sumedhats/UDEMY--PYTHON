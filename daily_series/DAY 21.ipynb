{
 "cells": [
  {
   "cell_type": "code",
   "execution_count": 1,
   "id": "f57c11a9",
   "metadata": {},
   "outputs": [
    {
     "name": "stdout",
     "output_type": "stream",
     "text": [
      "2\n",
      "2\n",
      "I can breathe\n"
     ]
    }
   ],
   "source": [
    "class boys:\n",
    "    def __init__(self):\n",
    "        self.eyes = 2\n",
    "        self.legs = 2\n",
    "        self.hands = 2\n",
    "        self.head = 1\n",
    "\n",
    "    def breathe(self):\n",
    "        print(\"I can breathe\")\n",
    "\n",
    "class goodboys(boys):\n",
    "    def __init__(self):\n",
    "        super().__init__()\n",
    "        self.ears = 2      \n",
    "\n",
    "\n",
    "guy = goodboys()\n",
    "print(guy.eyes)  \n",
    "print(guy.ears)  \n",
    "guy.breathe()     \n",
    "\n"
   ]
  },
  {
   "cell_type": "code",
   "execution_count": 2,
   "id": "126f76aa",
   "metadata": {},
   "outputs": [
    {
     "name": "stdout",
     "output_type": "stream",
     "text": [
      "['g', 'd', 'K', 'l']\n",
      "['K', 'l']\n"
     ]
    }
   ],
   "source": [
    "ravi = [\"a\", \"d\", \"g\" ,\"d\" ,\"K\" ,\"l\"]\n",
    "print(ravi[2:6])\n",
    "print(ravi[4:6:1])"
   ]
  }
 ],
 "metadata": {
  "kernelspec": {
   "display_name": "Python 3",
   "language": "python",
   "name": "python3"
  },
  "language_info": {
   "codemirror_mode": {
    "name": "ipython",
    "version": 3
   },
   "file_extension": ".py",
   "mimetype": "text/x-python",
   "name": "python",
   "nbconvert_exporter": "python",
   "pygments_lexer": "ipython3",
   "version": "3.11.13"
  }
 },
 "nbformat": 4,
 "nbformat_minor": 5
}
