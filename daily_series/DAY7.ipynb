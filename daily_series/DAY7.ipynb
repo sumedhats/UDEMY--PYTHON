{
  "cells": [
    {
      "cell_type": "code",
      "execution_count": 2,
      "metadata": {
        "colab": {
          "base_uri": "https://localhost:8080/"
        },
        "id": "M2epSJUFMqcv",
        "outputId": "67b500e9-f8f0-416f-892c-3b22627e9012"
      },
      "outputs": [
        {
          "name": "stdout",
          "output_type": "stream",
          "text": [
            "____\n",
            "Guess a letter: j\n",
            "Good guess!\n",
            "j___\n",
            "Guess a letter: a\n",
            "Good guess!\n",
            "ja_a\n",
            "Guess a letter: v\n",
            "Good guess!\n",
            "You win! The word was java.\n"
          ]
        }
      ],
      "source": [
        "import random\n",
        "\n",
        "def hangman():\n",
        "    words = [\"python\", \"java\", \"kotlin\", \"javascript\"]\n",
        "    chosen_word = random.choice(words)\n",
        "    guessed_letters = []\n",
        "    tries = 6\n",
        "\n",
        "    while tries > 0:\n",
        "        display = ''.join([letter if letter in guessed_letters else '_' for letter in chosen_word])\n",
        "        print(display)\n",
        "        guess = input(\"Guess a letter: \").lowera\n",
        "         ()\n",
        "\n",
        "        if guess in guessed_letters:\n",
        "            print(\"You've already guessed that letter.\")\n",
        "        elif guess in chosen_word:\n",
        "            guessed_letters.append(guess)\n",
        "            print(\"Good guess!\")\n",
        "        else:\n",
        "            guessed_letters.append(guess)\n",
        "            tries -= 1\n",
        "            print(f\"Wrong guess! You have {tries} tries left.\")\n",
        "\n",
        "        if all(letter in guessed_letters for letter in chosen_word):\n",
        "            print(f\"You win! The word was {chosen_word}.\")\n",
        "            break\n",
        "    else:\n",
        "        print(f\"You lost! The word was {chosen_word}.\")\n",
        "\n",
        "hangman()"
      ]
    }
  ],
  "metadata": {
    "colab": {
      "authorship_tag": "ABX9TyMSPn2HH1Dn3w+CGWYs17sZ",
      "include_colab_link": true,
      "provenance": []
    },
    "kernelspec": {
      "display_name": "Python 3",
      "name": "python3"
    },
    "language_info": {
      "name": "python"
    }
  },
  "nbformat": 4,
  "nbformat_minor": 0
}
