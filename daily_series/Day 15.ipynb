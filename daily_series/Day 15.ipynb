{
 "cells": [
  {
   "cell_type": "markdown",
   "id": "d5dc8e55",
   "metadata": {},
   "source": [
    "DAY 15"
   ]
  },
  {
   "cell_type": "code",
   "execution_count": null,
   "id": "d851848c",
   "metadata": {},
   "outputs": [],
   "source": [
    "MENU = {\n",
    "    \"espresso\": {\"water\": 50, \"milk\": 0, \"coffee\": 18, \"cost\": 1.5},\n",
    "    \"latte\": {\"water\": 200, \"milk\": 150, \"coffee\": 24, \"cost\": 2.5},\n",
    "    \"cappuccino\": {\"water\": 250, \"milk\": 100, \"coffee\": 24, \"cost\": 3.0}\n",
    "}\n",
    "water = 300\n",
    "milk = 200\n",
    "coffee = 100\n",
    "money = 0.0\n",
    "while True:\n",
    "    choice = input(\"What would you like? (espresso/latte/cappuccino): \").lower()\n",
    "\n",
    "    if choice == \"off\":\n",
    "        print(\"Machine turning off. Goodbye!\")\n",
    "        break\n",
    "\n",
    "    elif choice == \"report\":\n",
    "        print(f\"Water: {water}ml\")\n",
    "        print(f\"Milk: {milk}ml\")\n",
    "        print(f\"Coffee: {coffee}g\")\n",
    "        print(f\"Money: ${money}\")\n",
    "    \n",
    "    elif choice in MENU:\n",
    "        drink = MENU[choice]\n",
    "        if water < drink[\"water\"]:\n",
    "            print(\"Sorry, not enough water.\")\n",
    "            continue\n",
    "        if milk < drink[\"milk\"]:\n",
    "            print(\"Sorry, not enough milk.\")\n",
    "            continue\n",
    "        if coffee < drink[\"coffee\"]:\n",
    "            print(\"Sorry, not enough coffee.\")\n",
    "            continue\n",
    "        print(\"Please insert coins.\")\n",
    "        q = int(input(\"How many quarters (0.25)? \"))\n",
    "        d = int(input(\"How many dimes (0.10)? \"))\n",
    "        n = int(input(\"How many nickles (0.05)? \"))\n",
    "        p = int(input(\"How many pennies (0.01)? \"))\n",
    "\n",
    "        total = q * 0.25 + d * 0.10 + n * 0.05 + p * 0.01\n",
    "\n",
    "        if total < drink[\"cost\"]:\n",
    "            print(\"Sorry, that's not enough money. Money refunded.\")\n",
    "            continue\n",
    "        else:\n",
    "            change = round(total - drink[\"cost\"], 2)\n",
    "            if change > 0:\n",
    "                print(f\"Here is ${change} in change.\")\n",
    "            money += drink[\"cost\"]\n",
    "\n",
    "            water -= drink[\"water\"]\n",
    "            milk -= drink[\"milk\"]\n",
    "            coffee -= drink[\"coffee\"]\n",
    "            print(f\"Here is your {choice}. Enjoy!\")\n",
    "\n",
    "    else:\n",
    "        print(\"Invalid input. Try again.\")\n"
   ]
  },
  {
   "cell_type": "code",
   "execution_count": null,
   "id": "b63ba402",
   "metadata": {},
   "outputs": [],
   "source": []
  }
 ],
 "metadata": {
  "kernelspec": {
   "display_name": "Python 3",
   "language": "python",
   "name": "python3"
  },
  "language_info": {
   "name": "python",
   "version": "3.9.6"
  }
 },
 "nbformat": 4,
 "nbformat_minor": 5
}
