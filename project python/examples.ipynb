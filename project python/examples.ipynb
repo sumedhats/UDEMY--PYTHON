{
 "cells": [
  {
   "cell_type": "markdown",
   "id": "90f35b54",
   "metadata": {},
   "source": [
    "STRING TO LIST"
   ]
  },
  {
   "cell_type": "code",
   "execution_count": 1,
   "id": "05003f27",
   "metadata": {},
   "outputs": [
    {
     "name": "stdout",
     "output_type": "stream",
     "text": [
      "['v', 'i', 'k', 'a', 's']\n"
     ]
    }
   ],
   "source": [
    "string = \"vikas\"\n",
    "char_list = list(string)\n",
    "print(char_list)"
   ]
  },
  {
   "cell_type": "markdown",
   "id": "25dfaef8",
   "metadata": {},
   "source": [
    "seperated by spaces"
   ]
  },
  {
   "cell_type": "code",
   "execution_count": 2,
   "id": "231c3b6f",
   "metadata": {},
   "outputs": [
    {
     "name": "stdout",
     "output_type": "stream",
     "text": [
      "['Unseen', 'Unheard', 'Unloved']\n"
     ]
    }
   ],
   "source": [
    "string = \"Unseen Unheard Unloved\"\n",
    "word_list = string.split()\n",
    "print(word_list)"
   ]
  },
  {
   "cell_type": "markdown",
   "id": "30403668",
   "metadata": {},
   "source": [
    "giving split info in detail"
   ]
  },
  {
   "cell_type": "code",
   "execution_count": 3,
   "id": "fa9cdfb6",
   "metadata": {},
   "outputs": [
    {
     "name": "stdout",
     "output_type": "stream",
     "text": [
      "['vikas', 'ravi', 'vinay', 'yashas', 'ram']\n"
     ]
    }
   ],
   "source": [
    "string = \"vikas,ravi,vinay,yashas,ram\"\n",
    "word_list = string.split(\",\")\n",
    "print(word_list)"
   ]
  },
  {
   "cell_type": "markdown",
   "id": "14bec60b",
   "metadata": {},
   "source": []
  },
  {
   "cell_type": "code",
   "execution_count": 4,
   "id": "69099719",
   "metadata": {},
   "outputs": [
    {
     "data": {
      "text/plain": [
       "'2'"
      ]
     },
     "execution_count": 4,
     "metadata": {},
     "output_type": "execute_result"
    }
   ],
   "source": [
    "str(2)"
   ]
  },
  {
   "cell_type": "code",
   "execution_count": 5,
   "id": "f91b9399",
   "metadata": {},
   "outputs": [
    {
     "name": "stdout",
     "output_type": "stream",
     "text": [
      "5\n"
     ]
    }
   ],
   "source": [
    "sent = input(\"Enter a sentence\").lower()\n",
    "count = 0\n",
    "vowels = \"aeiou\"\n",
    "for char in sent:\n",
    "    if char in vowels:\n",
    "        count +=1\n",
    "print(f\"{count}\")\n",
    "\n",
    "     "
   ]
  },
  {
   "cell_type": "code",
   "execution_count": 6,
   "id": "09a4ece4",
   "metadata": {},
   "outputs": [
    {
     "name": "stdout",
     "output_type": "stream",
     "text": [
      "v\n",
      "ik\n",
      "i\n"
     ]
    }
   ],
   "source": [
    "word =input(\"enter a word\").lower()\n",
    "len = len(word) \n",
    "fst_char = word[0]\n",
    "lst_char = word[-1]\n",
    "if len % 2 == 0:\n",
    "    mid1 = word[(len//2) - 1]\n",
    "    mid2 = word[(len//2)]\n",
    "    mid = mid1 + mid2\n",
    "else:\n",
    "    mid = word[len//2]\n",
    "print(f\"{fst_char}\")\n",
    "print(f\"{mid}\")\n",
    "print(f\"{lst_char}\")\n",
    "\n",
    "\n",
    "\n"
   ]
  },
  {
   "cell_type": "code",
   "execution_count": 7,
   "id": "e9f89c67",
   "metadata": {},
   "outputs": [
    {
     "name": "stdout",
     "output_type": "stream",
     "text": [
      "Welcome to bmi classifier\n",
      "underweight\n"
     ]
    }
   ],
   "source": [
    "print(\"Welcome to bmi classifier\")\n",
    "feet = float(input(\"feet:\"))\n",
    "inches = float(input(\"inches\"))\n",
    "meter = (feet*0.3048 + inches * 0.025) \n",
    "if meter < 18.5:\n",
    "    print(\"underweight\")\n",
    "elif meter >18.5 and meter<24.9:\n",
    "    print(\"normal weight\")\n",
    "elif meter > 25.0 and meter < 29.9:\n",
    "    print(\"overweight\")\n",
    "else:\n",
    "    print(\"obese\")\n",
    "    "
   ]
  },
  {
   "cell_type": "code",
   "execution_count": 8,
   "id": "99ad7236",
   "metadata": {},
   "outputs": [
    {
     "name": "stdout",
     "output_type": "stream",
     "text": [
      "Total bill:12\n"
     ]
    }
   ],
   "source": [
    "size = input(\"What size pizza do you want? (S/M/L):\").lower()\n",
    "bill = 0\n",
    "if size == \"s\":\n",
    "    bill += 10\n",
    "    pep = input(\"Do you want pepperoni? (Y/N):\").lower()\n",
    "    if pep == \"y\":\n",
    "       bill += 2\n",
    "    cheese = input(\"Do you want cheese? (Y/N):\").lower()\n",
    "    if cheese == \"y\":\n",
    "       bill += 2\n",
    "\n",
    "elif size == \"m\":\n",
    "   bill += 20\n",
    "   pep = input(\"Do you want pepperoni? (Y/N):\").lower()\n",
    "   if pep == \"y\":\n",
    "       bill += 4\n",
    "   cheese = input(\"Do you want cheese? (Y/N):\").lower()\n",
    "   if cheese == \"y\":\n",
    "       bill += 4\n",
    "else:\n",
    "   bill += 30\n",
    "   pep = input(\"Do you want pepperoni? (Y/N):\").lower()\n",
    "   if pep == \"y\":\n",
    "       bill += 6\n",
    "   cheese = input(\"Do you want cheese? (Y/N):\").lower()\n",
    "   if cheese == \"y\":\n",
    "       bill += 6\n",
    "print(f\"Total bill:{bill}\")\n",
    "\n"
   ]
  },
  {
   "cell_type": "code",
   "execution_count": 9,
   "id": "109f1264",
   "metadata": {},
   "outputs": [
    {
     "name": "stdout",
     "output_type": "stream",
     "text": [
      "Welcome to the Band Name Generator!\n",
      "Your band name is: <DWARKA>-<SUVI>\n"
     ]
    }
   ],
   "source": [
    "print(\"Welcome to the Band Name Generator!\")\n",
    "def has_num(word):\n",
    "     for char in word:\n",
    "          if char in \"0123456789\":\n",
    "               return True\n",
    "          return False\n",
    "if True:\n",
    "     city = input(\"what is your city name\").upper()\n",
    "     pet = input(\"what is your pet name\").upper()\n",
    "     print(f\"Your band name is: <{city}>-<{pet}>\")"
   ]
  },
  {
   "cell_type": "code",
   "execution_count": 10,
   "id": "ce614a3f",
   "metadata": {},
   "outputs": [
    {
     "name": "stdout",
     "output_type": "stream",
     "text": [
      "Welcome to the nested roller coaster\n",
      "0\n"
     ]
    }
   ],
   "source": [
    "print(\"Welcome to the nested roller coaster\")\n",
    "height = int(input(\"Enter ur height:\"))\n",
    "vip = input(\"vip pass?\").lower()\n",
    "snack = input (\"snack?\").lower()\n",
    "bill = 0\n",
    "def snack(snack):\n",
    "    if snack == \"y\":\n",
    "       bill += 5\n",
    "       return True\n",
    "def vip(vip):\n",
    "  if vip == \"y\":\n",
    "    return True\n",
    "def height(height):\n",
    "    for int in height:\n",
    "       if height <= 180:\n",
    "           return True\n",
    "       return False\n",
    "if True:\n",
    "   age = int(input(\"Enter your age\"))\n",
    "   if age < 12:\n",
    "     bill += 5\n",
    "   elif age > 12 and age < 18:\n",
    "      bill += 10\n",
    "   elif age > 19 and age < 20:\n",
    "     bill += 20\n",
    "   else :\n",
    "     bill += 0 \n",
    "print(f\"{bill}\")\n",
    " \n",
    "\n",
    "\n",
    "\n"
   ]
  },
  {
   "cell_type": "code",
   "execution_count": 11,
   "id": "b473edd7",
   "metadata": {},
   "outputs": [
    {
     "name": "stdout",
     "output_type": "stream",
     "text": [
      "access denied\n",
      "access denied\n",
      "access granted\n"
     ]
    }
   ],
   "source": [
    "code = \"Open Sesame\"\n",
    "turns = 0\n",
    "attempts = 3\n",
    "while turns < attempts:\n",
    "    ecode = input(\"enter the code\")\n",
    "    if code == ecode:\n",
    "        print(\"access granted\")\n",
    "        break\n",
    "    else:\n",
    "        turns += 1\n",
    "        print(\"access denied\")\n",
    "        if turns == attempts:\n",
    "            print(\"device locked\")\n"
   ]
  }
 ],
 "metadata": {
  "kernelspec": {
   "display_name": "Python 3",
   "language": "python",
   "name": "python3"
  },
  "language_info": {
   "codemirror_mode": {
    "name": "ipython",
    "version": 3
   },
   "file_extension": ".py",
   "mimetype": "text/x-python",
   "name": "python",
   "nbconvert_exporter": "python",
   "pygments_lexer": "ipython3",
   "version": "3.9.6"
  }
 },
 "nbformat": 4,
 "nbformat_minor": 5
}
