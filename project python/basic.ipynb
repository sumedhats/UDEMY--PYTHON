{
  "nbformat": 4,
  "nbformat_minor": 0,
  "metadata": {
    "colab": {
      "provenance": []
    },
    "kernelspec": {
      "name": "python3",
      "display_name": "Python 3"
    },
    "language_info": {
      "name": "python"
    }
  },
  "cells": [
    {
      "cell_type": "markdown",
      "source": [
        "Write a program to check if a number is even or odd"
      ],
      "metadata": {
        "id": "efN8C4nZrJq5"
      }
    },
    {
      "cell_type": "code",
      "source": [
        "no = int(input(\"enter no: \"))\n",
        "if no%2 == 0:\n",
        "  print(\"even\")\n",
        "else:\n",
        "  print(\"odd\")"
      ],
      "metadata": {
        "colab": {
          "base_uri": "https://localhost:8080/"
        },
        "id": "dNkjum4VrMvh",
        "outputId": "21a82dad-08cc-48bc-b5cc-200660c461ce"
      },
      "execution_count": 2,
      "outputs": [
        {
          "output_type": "stream",
          "name": "stdout",
          "text": [
            "enter no:  6\n",
            "even\n"
          ]
        }
      ]
    },
    {
      "cell_type": "markdown",
      "source": [
        "Write a function that reverses a given string"
      ],
      "metadata": {
        "id": "KHKeilUevH01"
      }
    },
    {
      "cell_type": "code",
      "source": [
        "string = input(\"enter string:\")\n",
        "print(string[::-1])\n"
      ],
      "metadata": {
        "colab": {
          "base_uri": "https://localhost:8080/"
        },
        "id": "pR6xuDMlvXFm",
        "outputId": "fbfaa740-0e8a-4cb6-f097-d13a4ffbbfc1"
      },
      "execution_count": 4,
      "outputs": [
        {
          "output_type": "stream",
          "name": "stdout",
          "text": [
            "enter string: viki\n",
            "ikiv \n"
          ]
        }
      ]
    },
    {
      "cell_type": "markdown",
      "source": [
        "Create a program that asks the user for two numbers and an operation (+, -, *, /) and prints the result."
      ],
      "metadata": {
        "id": "nlYPaYfBvxYB"
      }
    },
    {
      "cell_type": "code",
      "source": [
        "no1 = int(input(\"enter no1: \"))\n",
        "no2 = int(input(\"enter no2: \"))\n",
        "operation = input(\"enter operation :\")\n",
        "if operation == \"+\":\n",
        "  print(no1 +no2)\n",
        "elif operation ==\"-\":\n",
        "  print(no1 -no2)\n",
        "elif operation == \"*\":\n",
        "  print(no1 * no2)\n",
        "else:\n",
        "  print(no1/no2)"
      ],
      "metadata": {
        "colab": {
          "base_uri": "https://localhost:8080/"
        },
        "id": "gMl8_tYJv6Kl",
        "outputId": "4c18bd0a-e1de-4b11-a4f8-7da9debe6237"
      },
      "execution_count": 25,
      "outputs": [
        {
          "output_type": "stream",
          "name": "stdout",
          "text": [
            "enter no1: 3\n",
            "enter no2: 4\n",
            "enter operation :*\n",
            "12\n"
          ]
        }
      ]
    },
    {
      "cell_type": "markdown",
      "source": [
        "Given a list of numbers, write a program to find their sum."
      ],
      "metadata": {
        "id": "Eo95f5VLxCtW"
      }
    },
    {
      "cell_type": "code",
      "source": [
        "no = [\"22\",\"33\",\"44\",\"55\",\"66\",\"77\"]\n",
        "ans = 0\n",
        "for i in no:\n",
        "  ans += int(i)\n",
        "  print(ans)"
      ],
      "metadata": {
        "colab": {
          "base_uri": "https://localhost:8080/"
        },
        "id": "Gtyo7XQExJ6f",
        "outputId": "6b6ff4bc-e285-47d8-e8ba-cd1b1adb1f38"
      },
      "execution_count": 12,
      "outputs": [
        {
          "output_type": "stream",
          "name": "stdout",
          "text": [
            "22\n",
            "55\n",
            "99\n",
            "154\n",
            "220\n",
            "297\n"
          ]
        }
      ]
    },
    {
      "cell_type": "code",
      "source": [
        "no = [22,33,44,55,66,77]\n",
        "total = sum(no)\n",
        "print(total)"
      ],
      "metadata": {
        "colab": {
          "base_uri": "https://localhost:8080/"
        },
        "id": "4R-3aKjOygzR",
        "outputId": "f5fda3eb-cb93-48a4-98c5-1ba40871341a"
      },
      "execution_count": 14,
      "outputs": [
        {
          "output_type": "stream",
          "name": "stdout",
          "text": [
            "297\n"
          ]
        }
      ]
    },
    {
      "cell_type": "markdown",
      "source": [
        "Write a program to print the multiplication table of a number entered by the user"
      ],
      "metadata": {
        "id": "JZsVn5Jgy6fL"
      }
    },
    {
      "cell_type": "code",
      "source": [
        "no = input(\"enter no:\")\n",
        "for i in range(1,11):\n",
        "  pr = int(no) *i\n",
        "  print(no,\"*\",i,\"=\",pr)"
      ],
      "metadata": {
        "colab": {
          "base_uri": "https://localhost:8080/"
        },
        "id": "roI4m1vVzCAi",
        "outputId": "aa320fe2-f347-48d3-ce64-3c8d0215bb47"
      },
      "execution_count": 28,
      "outputs": [
        {
          "output_type": "stream",
          "name": "stdout",
          "text": [
            "enter no:4\n",
            "4 * 1 = 4\n",
            "4 * 2 = 8\n",
            "4 * 3 = 12\n",
            "4 * 4 = 16\n",
            "4 * 5 = 20\n",
            "4 * 6 = 24\n",
            "4 * 7 = 28\n",
            "4 * 8 = 32\n",
            "4 * 9 = 36\n",
            "4 * 10 = 40\n"
          ]
        }
      ]
    },
    {
      "cell_type": "markdown",
      "source": [
        "Check if a number entered by the user is a prime number."
      ],
      "metadata": {
        "id": "OswhBmh01rXk"
      }
    },
    {
      "cell_type": "code",
      "source": [
        "no = int(input(\"enter no: \"))\n",
        "if no % 2 == 0:\n",
        "  print(\"prime\")\n",
        "else:\n",
        "    print(\"not prime\")\n"
      ],
      "metadata": {
        "colab": {
          "base_uri": "https://localhost:8080/"
        },
        "id": "aMmGDl4v10e_",
        "outputId": "733265d0-5c19-49ab-ae3d-444fd584c5bc"
      },
      "execution_count": 35,
      "outputs": [
        {
          "output_type": "stream",
          "name": "stdout",
          "text": [
            "enter no: 2\n",
            "prime\n"
          ]
        }
      ]
    },
    {
      "cell_type": "markdown",
      "source": [
        "Write a recursive function to calculate the factorial of a number."
      ],
      "metadata": {
        "id": "bGh1jOOw5Jzb"
      }
    },
    {
      "cell_type": "code",
      "source": [
        "def factorial(n):\n",
        "    if n == 0:\n",
        "        return 1\n",
        "    return n * factorial(n - 1)\n",
        "\n",
        "# Example use\n",
        "print(factorial(5))  # Output: 120\n"
      ],
      "metadata": {
        "colab": {
          "base_uri": "https://localhost:8080/"
        },
        "id": "CHsm5mja5TGX",
        "outputId": "aece2bad-7ef9-4ad3-c833-47f4c10c125f"
      },
      "execution_count": 40,
      "outputs": [
        {
          "output_type": "stream",
          "name": "stdout",
          "text": [
            "120\n"
          ]
        }
      ]
    }
  ]
}
